{
 "cells": [
  {
   "cell_type": "markdown",
   "id": "0c4ae19d-01ba-4b8c-8d59-9d052decbb5c",
   "metadata": {},
   "source": [
    "# Data Science Tools and Ecosystem"
   ]
  },
  {
   "cell_type": "code",
   "execution_count": null,
   "id": "9274aa8b-4c0a-48ce-99c1-d1d090a026a4",
   "metadata": {},
   "outputs": [],
   "source": []
  },
  {
   "cell_type": "markdown",
   "id": "3109a282-8ad5-4909-94ca-17cb4dbf0feb",
   "metadata": {},
   "source": [
    "In this notebook, Data Science Tools and Ecosystem are summarized.\n",
    "\n",
    "**Objectives:**\n",
    "- List popular languages for Data Science.\n",
    "- Introduce commonly used libraries in Data Science.\n",
    "- Summarize key tools used in Data Science environments.\n",
    "- Arithmetic Expression to multiply and then add integer."
   ]
  },
  {
   "cell_type": "code",
   "execution_count": null,
   "id": "f1f7a02e-78ed-4828-ab16-506eb1406b25",
   "metadata": {},
   "outputs": [],
   "source": []
  },
  {
   "cell_type": "markdown",
   "id": "5739dc6a-284f-4ad4-99ec-89a445fdc49a",
   "metadata": {},
   "source": [
    "Some of the Data Science Languages that data scientists use are:\n",
    "- Python\n",
    "- SQL\n",
    "- R\n",
    "- Scala"
   ]
  },
  {
   "cell_type": "code",
   "execution_count": null,
   "id": "1bea297a-8d29-43e7-beb7-9acb031a959d",
   "metadata": {},
   "outputs": [],
   "source": []
  },
  {
   "cell_type": "markdown",
   "id": "ea8433cb-4de3-4992-b888-ec2db0976dfe",
   "metadata": {},
   "source": [
    "Some of the commonly used libraries used by Data Scientists are: \n",
    "1. Pandas\n",
    "2. Numpy\n",
    "3. scikit-learn\n",
    "4. TensorFlow\n",
    "5. PyTorch"
   ]
  },
  {
   "cell_type": "code",
   "execution_count": null,
   "id": "a9070305-372e-4bc7-849c-7b76f80db8df",
   "metadata": {},
   "outputs": [],
   "source": []
  },
  {
   "cell_type": "markdown",
   "id": "9acbeddb-5810-4aa5-8b84-973486573970",
   "metadata": {},
   "source": [
    "| Data Science Tools |\n",
    "|--------------------|\n",
    "| Jupyter Notebook   |\n",
    "| VS Code            |\n",
    "| Spyder             |\n",
    "| Apache Hadoop      |\n",
    "| Apache Spark       |"
   ]
  },
  {
   "cell_type": "code",
   "execution_count": null,
   "id": "38d725b4-2952-46ac-acb8-62023fe1f772",
   "metadata": {},
   "outputs": [],
   "source": []
  },
  {
   "cell_type": "markdown",
   "id": "42e61377-3419-46dc-bdd8-7fe67cc13820",
   "metadata": {},
   "source": [
    "### Below are a few examples of evaluating arithmetic expressions in Python."
   ]
  },
  {
   "cell_type": "code",
   "execution_count": null,
   "id": "bc7ae83e-c35b-4f84-8339-9c0d2fbbbffb",
   "metadata": {},
   "outputs": [],
   "source": []
  },
  {
   "cell_type": "code",
   "execution_count": 28,
   "id": "51ebbdc2-7d35-497e-93f3-9386428ed8e2",
   "metadata": {},
   "outputs": [
    {
     "name": "stdout",
     "output_type": "stream",
     "text": [
      "17\n"
     ]
    }
   ],
   "source": [
    "# This is a simple arithmetic expression to multiply then add integers\n",
    "result = (3 * 4) + 5\n",
    "print(result)"
   ]
  },
  {
   "cell_type": "code",
   "execution_count": null,
   "id": "7dcf203a-d0bf-4579-abab-32eb28c55c65",
   "metadata": {},
   "outputs": [],
   "source": []
  },
  {
   "cell_type": "code",
   "execution_count": 29,
   "id": "1e6dcbec-0101-4e18-b51f-2998b0427899",
   "metadata": {},
   "outputs": [
    {
     "name": "stdout",
     "output_type": "stream",
     "text": [
      "7.55\n"
     ]
    }
   ],
   "source": [
    "# This expression converts 453 minutes into hours\n",
    "hours = 453 / 60\n",
    "print(hours)"
   ]
  },
  {
   "cell_type": "code",
   "execution_count": null,
   "id": "eeee4a60-111d-4a30-840b-6ff72891d882",
   "metadata": {},
   "outputs": [],
   "source": []
  }
 ],
 "metadata": {
  "kernelspec": {
   "display_name": "Python 3 (ipykernel)",
   "language": "python",
   "name": "python3"
  },
  "language_info": {
   "codemirror_mode": {
    "name": "ipython",
    "version": 3
   },
   "file_extension": ".py",
   "mimetype": "text/x-python",
   "name": "python",
   "nbconvert_exporter": "python",
   "pygments_lexer": "ipython3",
   "version": "3.11.7"
  }
 },
 "nbformat": 4,
 "nbformat_minor": 5
}
